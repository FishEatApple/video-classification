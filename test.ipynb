{
 "cells": [
  {
   "cell_type": "code",
   "execution_count": 18,
   "metadata": {},
   "outputs": [
    {
     "name": "stdout",
     "output_type": "stream",
     "text": [
      "/home/gjj/project/video-classification\n",
      "['PommelHorse', 'Surfing', 'HammerThrow', 'PlayingViolin', 'WallPushups', 'PullUps', 'PizzaTossing', 'SalsaSpin', 'Shotput', 'CricketShot', 'HorseRiding', 'CliffDiving', 'Rowing', 'BenchPress', 'SkyDiving', 'BaseballPitch', 'Lunges', 'Haircut', 'JumpRope', 'Kayaking', 'GolfSwing', 'FrontCrawl', 'Bowling', 'RopeClimbing', 'BoxingSpeedBag', 'ShavingBeard', 'Swing', 'RockClimbingIndoor', 'ParallelBars', 'Fencing', 'Diving', 'TrampolineJumping', 'PlayingDhol', 'ApplyEyeMakeup', 'HandstandWalking', 'BandMarching', 'Skijet', 'BrushingTeeth', 'Billiards', 'LongJump', 'TennisSwing', 'BreastStroke', 'Mixing', 'TableTennisShot', 'Punch', 'VolleyballSpiking', 'PlayingCello', 'JugglingBalls', 'ApplyLipstick', 'Rafting', 'Hammering', 'BalanceBeam', 'Knitting', 'Drumming', 'HighJump', 'PlayingTabla', 'BodyWeightSquats', 'PlayingPiano', 'TaiChi', 'Typing', 'SoccerPenalty', 'JavelinThrow', 'PlayingDaf', 'Biking', 'CricketBowling', 'BlowingCandles', 'SkateBoarding', 'SoccerJuggling', 'BasketballDunk', 'CleanAndJerk', 'HeadMassage', 'FloorGymnastics', 'SumoWrestling', 'BabyCrawling', 'HulaHoop', 'FieldHockeyPenalty', 'MoppingFloor', 'Skiing', 'BlowDryHair', 'PoleVault', 'Basketball', 'MilitaryParade', 'PushUps', 'HorseRace', 'PlayingSitar', 'WalkingWithDog', 'PlayingGuitar', 'StillRings', 'UnevenBars', 'Archery', 'BoxingPunchingBag', 'CuttingInKitchen', 'ThrowDiscus', 'Nunchucks', 'WritingOnBoard', 'YoYo', 'PlayingFlute', 'IceDancing', 'FrisbeeCatch', 'JumpingJack', 'HandStandPushups'] 101\n"
     ]
    }
   ],
   "source": [
    "import os\n",
    "import pickle\n",
    "print(os.getcwd())\n",
    "action_name_path = './ResNetCRNN/UCF101actions.pkl'\n",
    "with open(action_name_path, 'rb') as f:\n",
    "    action_names = pickle.load(f)\n",
    "# print(action_names,len(action_names))\n",
    "# print(type(action_names))\n",
    "action_names.pop(action_names.index(\"HandstandPushups\"))\n",
    "\n",
    "action_names.append(\"HandStandPushups\")\n",
    "# print(action_names,len(action_names))\n",
    "with open(\"./ResNetCRNN/_UCF101actions.pkl\",'wb') as f:\n",
    "        pickle.dump(action_names,f)\n",
    "with open(\"_UCF101actions.pkl\", 'rb') as f:\n",
    "    action_names = pickle.load(f)\n",
    "    print(action_names,len(action_names))"
   ]
  },
  {
   "cell_type": "code",
   "execution_count": 11,
   "metadata": {},
   "outputs": [
    {
     "data": {
      "text/plain": [
       "[1, 2, 3, 4, 5, 6, 7, 8, 9]"
      ]
     },
     "execution_count": 11,
     "metadata": {},
     "output_type": "execute_result"
    }
   ],
   "source": [
    "import numpy as np\n",
    "n=np.arange(1,10,1).tolist()\n",
    "n"
   ]
  },
  {
   "cell_type": "code",
   "execution_count": null,
   "metadata": {},
   "outputs": [],
   "source": []
  }
 ],
 "metadata": {
  "kernelspec": {
   "display_name": "Python 3",
   "language": "python",
   "name": "python3"
  },
  "language_info": {
   "codemirror_mode": {
    "name": "ipython",
    "version": 3
   },
   "file_extension": ".py",
   "mimetype": "text/x-python",
   "name": "python",
   "nbconvert_exporter": "python",
   "pygments_lexer": "ipython3",
   "version": "3.6.10"
  },
  "toc": {
   "base_numbering": 1,
   "nav_menu": {},
   "number_sections": true,
   "sideBar": true,
   "skip_h1_title": false,
   "title_cell": "Table of Contents",
   "title_sidebar": "Contents",
   "toc_cell": false,
   "toc_position": {},
   "toc_section_display": true,
   "toc_window_display": false
  }
 },
 "nbformat": 4,
 "nbformat_minor": 4
}
